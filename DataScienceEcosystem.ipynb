{
 "cells": [
  {
   "cell_type": "markdown",
   "id": "b2e96e6c-8d59-409b-b721-589fe447883f",
   "metadata": {},
   "source": [
    "# Data Science Tools And Ecosystem"
   ]
  },
  {
   "cell_type": "markdown",
   "id": "4dc3e8ed-0516-4502-8adf-e3d2ba7a111e",
   "metadata": {},
   "source": [
    "In this notebook, Data Science Tools and Ecosystem are summarized."
   ]
  },
  {
   "cell_type": "markdown",
   "id": "93f71b7f-8017-4fe6-a4cd-f2a0f9ebe05f",
   "metadata": {},
   "source": [
    "**Objectives**:\n",
    "\n",
    "- List popular languages for Data Science.\n",
    "\n",
    "- List popular libraries for Data Science.\n",
    "\n",
    "- Create tables using Markdown.\n",
    "\n",
    "- Perform basic arithmetic operations in Python."
   ]
  },
  {
   "cell_type": "markdown",
   "id": "ab62a02d-c4f3-4614-9968-b310087cca94",
   "metadata": {},
   "source": [
    "Some of the popular languages that Data Scientists use are:\n",
    "1. Python\n",
    "2. R\n",
    "3. SQL"
   ]
  },
  {
   "cell_type": "markdown",
   "id": "7709c306-bb23-43e8-8f2a-e8b6f41da0b2",
   "metadata": {},
   "source": [
    "Some of the commonly used libraries used by Data Scientists include:\n",
    "1. NumPy\n",
    "2. Pandas\n",
    "3. Matplotlib"
   ]
  },
  {
   "cell_type": "markdown",
   "id": "b40e6396-2925-4cb6-bcdc-8c8a517525f0",
   "metadata": {},
   "source": [
    "| Data Science Tools |\n",
    "|---|\n",
    "| Jupyter Notebook / JupyterLab |\n",
    "| RStudio |\n",
    "| VS Code |"
   ]
  },
  {
   "cell_type": "markdown",
   "id": "44151b1b-ee1b-4bbe-b662-923a8735bb50",
   "metadata": {},
   "source": [
    "### Below are a few examples of evaluating arithmetic expressions in Python"
   ]
  },
  {
   "cell_type": "code",
   "execution_count": 18,
   "id": "26ba083e-cb32-4955-b2b9-948315f96986",
   "metadata": {},
   "outputs": [
    {
     "data": {
      "text/plain": [
       "17"
      ]
     },
     "execution_count": 18,
     "metadata": {},
     "output_type": "execute_result"
    }
   ],
   "source": [
    "### This a simple arithmetic expression to mutiply then add integers\n",
    "(3*4)+5"
   ]
  },
  {
   "cell_type": "code",
   "execution_count": 20,
   "id": "9edea8bb-4405-402e-9c36-0f22dfd82b56",
   "metadata": {},
   "outputs": [
    {
     "name": "stdout",
     "output_type": "stream",
     "text": [
      "200 minutes is equal to 3.3333333333333335 hours\n"
     ]
    }
   ],
   "source": [
    "### This will convert 200 minutes to hours by diving by 60.\n",
    "# Defining the number of minutes\n",
    "total_minutes = 200\n",
    "\n",
    "# Convert minutes to hours by dividing by 60\n",
    "total_hours = total_minutes / 60\n",
    "\n",
    "# Print the results\n",
    "print(f\"{total_minutes} minutes is equal to {total_hours} hours\")"
   ]
  },
  {
   "cell_type": "markdown",
   "id": "78959838-0e34-408c-98d2-20f8c46c6307",
   "metadata": {},
   "source": [
    "## Author\n",
    "Basil Agas"
   ]
  },
  {
   "cell_type": "code",
   "execution_count": null,
   "id": "161f3f41-63cd-436a-b0cf-a18786d664ef",
   "metadata": {},
   "outputs": [],
   "source": []
  }
 ],
 "metadata": {
  "kernelspec": {
   "display_name": "Python [conda env:base] *",
   "language": "python",
   "name": "conda-base-py"
  },
  "language_info": {
   "codemirror_mode": {
    "name": "ipython",
    "version": 3
   },
   "file_extension": ".py",
   "mimetype": "text/x-python",
   "name": "python",
   "nbconvert_exporter": "python",
   "pygments_lexer": "ipython3",
   "version": "3.12.7"
  }
 },
 "nbformat": 4,
 "nbformat_minor": 5
}
